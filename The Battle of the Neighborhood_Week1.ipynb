{
    "nbformat_minor": 2, 
    "cells": [
        {
            "source": "# **The Battle of the Neighborhoods**\n\n## **IBM Applied Data Science Capstone Project - Week 1**", 
            "cell_type": "markdown", 
            "metadata": {}
        }, 
        {
            "source": "### **1. Introduction: Marketing Consultancy Problem**\n\nThe marketing teams involved in Travel, Tourism & Housing are faced with the need to provide ever more quality information that is tailored to the individual customers needs. In this era of information overload, it\u2019s easy to get overwhelmed with the information on all the seemingly available choices, without being able to get the best use out of all the information  \n\nCustomers today are highly aware of the market and as a result the industry has become highly competitive. This makes it essential to understand the client\u2019s need in the shortest possible time and present the options most suitable for their tastes.\n\nFor my project, I present the example of **a travel advisor who was approached by a client looking for a neighborhood to stay for a short term, in and around Toronto. The client has provided some information about his tastes and preference towards some neighborhoods he likes/ dislikes the most.  The challenge for this advisor lies in understanding & exploiting client information that lacks linear structure and using it to recommend location clusters. Additionally, the sheer volume of predictions of possible neighborhoods also poses a challenge.** \n\nThe Toronto area is spread over 630.2 square kilometers and like any big city has a mix of neighborhoods with varying density of shops, establishments, open areas and recreation facilities. One of the big factors in such a search for suitable neighborhood is obviously the available budget, but there is also the question of the entire makeup of the neighborhood. For the purposes of this project, the budget is not being taken into consideration and the focus will be on the facilities and infrastructure. To bring all this information on a visual scale which is easily understandable and also scalable with the ability to focus or zoom in further will help the client get a cleaner understanding of the options matching their outlook and lifestyle.   \n", 
            "cell_type": "markdown", 
            "metadata": {}
        }, 
        {
            "source": "   ", 
            "cell_type": "markdown", 
            "metadata": {}
        }, 
        {
            "source": "### **2. Materials & Methods: Data Collection to Clustering, Recommendation & Classification**\n\n#### **2.1 Project Objective**\nTo Explore, cluster, recommend the neighborhoods of Toronto using k-means Clustering, Recommender Systems and then classify the clients\u2019 profile based on their neighborhood preferences, applying various Machine Learning Algorithms.\n\n#### **2.2 Data collection**\nThis project focuses first on applying well-known machine learning algorithms to the dataset available from Wikipedia, Statistic Canada Census Official website & Foursquare. The first task is to define the data requirements for the Segmentation, Recommendation & Classification approach for the Toronto area. The data required for this project is collected from the following websites:\n\n1. Wikipedia List of Postal Codes of Canada\n   https://en.wikipedia.org/wiki/List_of_postal_codes_of_Canada:_M,  \n2. Geospatial Data\n   http://cocl.us/Geospatial_data\n3. Canada Census population data from 2016 \n   https://www12.statcan.gc.ca/census-recensement/2016/dp-pd/hlt-fst/pd-pl/Tables/CompFile.cfm?Lang=Eng&T=1201&OFT=FULLCSV\n4. Foursquare Data \n\nLocation data describing places and venues, such as their geographical location, their category, working hours, full address, and so on needs to be gathered. Once all the data ingredients are collected, I will have a better understanding of what I will be working with in the data collection stage. The data should be such that for a given location in the form of its geographical coordinates (or latitude and longitude values), one is able to determine what types of venues exist within a defined radius from that location. So for a given location I will be able to tell whether there are restaurants nearby, or other facilities, institutions such as schools, banks, parks, or gyms, or community centers and also the density of these facilities in each neighborhood. \n\nThis data is then modified as well as combined with various algorithms in the subsequent steps so that it produces the correct classifications matching those on the Customer Profile dataset. \n\n#### **2.3 Data Definition**\nThe content, format, and representations of the data needed for clustering, recommendation, and classification are defined & the explicit combination of information extraction and machine learning are executed. In this phase the data requirements are revisited and decisions are made as to whether or not the collection requires more or less data. \n\nExploratory Data Analysis (EDA) techniques such as descriptive statistics and visualization can be applied to the data set, to assess the content, quality, and initial insights about the data. Gaps in data will be identified and plans to either fill or make substitutions will have to be made \n\n#### **2.4 Neighborhood Clustering**\nClustering Algorithm produces taxonomy of location properties, namely neighborhood, with use of k-means method. The developed approach separates groups (clusters) of neighborhood with similar characteristics, which do not depend on spatial location. The segmented neighborhood data segregates the neighborhoods based on venue categories to recommend a potential buyer or renter or traveler based on their preference and with the description of a property of interest available. \n\n#### **2.5 Neighborhood Recommendation**\nRecommending products to consumers is a popular application of machine learning, especially when there exists substantial data about the customer\u2019s preferences. Even though peoples\u2019 tastes may vary, they generally follow patterns. There are similarities in the things that people tend to like ie., they tend to like things in the same category or things that share the same characteristics. \n\nOne of the main advantages of using recommendation systems to my case study is that client gets a broader exposure to many different neighborhoods he might be interested in. The idea was that people who prefer a particular destination are more likely to select a neighborhood from the same neighborhood clusters. Not only does this provide a better experience for the client but it benefits the consultant, as well, with increased potential revenue and better results for its customers.\nContent-based Recommender systems try to figure out what a client's favorite aspects of a neighborhood are, and then make recommendations on neighborhoods that share those aspects. The recommendation in a content-based system is based on client's liking for a particular neighborhood and the nature of the venue categories contained in that neighborhood. \n\nAfter clustering for each category, the cluster centers were chosen to represent the category and they become the new training sets for Classification Algorithm.\n\n#### **2.6 Final Prediction - Client Profile match**\nThe match of the client profile with the most appropriate neighborhood cluster is the final stage where the information is now distilled to provide a wide range of information in a highly focused manner. This is achieved by executing classification algorithms with KNN, Decision tree, Support Vector Machine. Finally the evaluation of each classification model is done with a view to ensure its accuracy.\n\n#### **2.7 Final Visual Representation**\nClients often feel the need to switch to different sources in search of complete information, but visual tree has been found to be more effective in customer engagement as it gives a personalized comprehensive information at a glance. The Decision Tree visualization will ease the client's understanding of the information, giving them more flexibility in discovering, using, modifying, and updating the available information according to their taste & preferences and thereby enhancing their Decision-making process. \n\n#### **2.8 Summary:**\nThe main stages consist of data collection, visualization, pre-processing, cluster with k-means algorithm, weighting term, application of Recommender system & finally classification with KNN, Decision tree, Support Vector Machine Algorithms.\nIn short, combination of Clustering, Recommender System Algorithm & Classification techniques to segregate, recommend, classify & predict the available Toronto Neighborhoods to potential clients based on their taste are employed sequentially to get the best possible outcome of their neighborhood search. \n", 
            "cell_type": "markdown", 
            "metadata": {}
        }, 
        {
            "source": "### **3. Download and Explore Dataset**", 
            "cell_type": "markdown", 
            "metadata": {}
        }, 
        {
            "source": "##### **Import Libraries & Modules**", 
            "cell_type": "markdown", 
            "metadata": {}
        }, 
        {
            "execution_count": 1, 
            "cell_type": "code", 
            "metadata": {}, 
            "outputs": [
                {
                    "output_type": "stream", 
                    "name": "stdout", 
                    "text": "Libraries imported.\n"
                }
            ], 
            "source": "import requests\nimport pandas as pd\nfrom bs4 import BeautifulSoup\nimport numpy as np\nimport json # library to handle JSON files\nimport requests # library to handle requests\nfrom pandas.io.json import json_normalize # tranform JSON file into a pandas dataframe\n#!conda install -c conda-forge geopy --yes \nfrom geopy.geocoders import Nominatim # convert an address into latitude and longitude values\nprint('Libraries imported.')"
        }, 
        {
            "source": "   ", 
            "cell_type": "markdown", 
            "metadata": {}
        }, 
        {
            "source": "##### **3.1 Wikipedia List of Postal Codes of Canada**\nIn order to explore and cluster the neighborhoods in Toronto, the Toronto neighborhood data of postal codes of each neighborhood along with the borough name and neighborhood name, is obtained from the Wikipedia page, https://en.wikipedia.org/wiki/List_of_postal_codes_of_Canada:_M,  \n\nUsing  BeautifulSoup package in Python the table on the Wikipedia page is scrapped which is then wrangled, cleaned, and then read into a structured format like pandas dataFrame. Once the data is in a structured format, the analysis is done to explore and cluster the neighborhoods in the city of Toronto.", 
            "cell_type": "markdown", 
            "metadata": {}
        }, 
        {
            "execution_count": 2, 
            "cell_type": "code", 
            "metadata": {}, 
            "outputs": [
                {
                    "execution_count": 2, 
                    "metadata": {}, 
                    "data": {
                        "text/html": "<div>\n<style scoped>\n    .dataframe tbody tr th:only-of-type {\n        vertical-align: middle;\n    }\n\n    .dataframe tbody tr th {\n        vertical-align: top;\n    }\n\n    .dataframe thead th {\n        text-align: right;\n    }\n</style>\n<table border=\"1\" class=\"dataframe\">\n  <thead>\n    <tr style=\"text-align: right;\">\n      <th></th>\n      <th>PostalCode</th>\n      <th>Borough</th>\n      <th>Neighborhood</th>\n    </tr>\n  </thead>\n  <tbody>\n    <tr>\n      <th>0</th>\n      <td>M3A</td>\n      <td>North York</td>\n      <td>Parkwoods</td>\n    </tr>\n    <tr>\n      <th>1</th>\n      <td>M4A</td>\n      <td>North York</td>\n      <td>Victoria Village</td>\n    </tr>\n    <tr>\n      <th>2</th>\n      <td>M5A</td>\n      <td>Downtown Toronto</td>\n      <td>Harbourfront, Regent Park</td>\n    </tr>\n    <tr>\n      <th>3</th>\n      <td>M6A</td>\n      <td>North York</td>\n      <td>Lawrence Heights, Lawrence Manor</td>\n    </tr>\n    <tr>\n      <th>4</th>\n      <td>M7A</td>\n      <td>Queen's Park</td>\n      <td>Queen's Park</td>\n    </tr>\n  </tbody>\n</table>\n</div>", 
                        "text/plain": "  PostalCode           Borough                      Neighborhood\n0        M3A        North York                         Parkwoods\n1        M4A        North York                  Victoria Village\n2        M5A  Downtown Toronto         Harbourfront, Regent Park\n3        M6A        North York  Lawrence Heights, Lawrence Manor\n4        M7A      Queen's Park                      Queen's Park"
                    }, 
                    "output_type": "execute_result"
                }
            ], 
            "source": "#Target page\nwebsite_url = requests.get('https://en.wikipedia.org/wiki/List_of_postal_codes_of_Canada:_M').text\n\n#Use BeautifulSoup to parse HTML\nsoup = BeautifulSoup(website_url,'lxml')\n\n#Extract table from wiki\nExtract = soup.find('table',class_='wikitable sortable')\n\n#Create table and populate with lines from extract\ntable_list = []\nfor rows in Extract.find_all('td'):\n    row = rows.text\n    row = row.replace('\\n', '')\n    table_list.append(row)    \n\n    #Create empty pandas dataframe with field titles\ncolumn_names = ['PostalCode', 'Borough', 'Neighborhood'] \ntoronto_data=[]\ntoronto_data=pd.DataFrame(columns=column_names)\n\n#Populate df with table rows\ntoronto_data.iloc[:,0]=table_list[::3]\ntoronto_data.iloc[:,1]=table_list[1::3]\ntoronto_data.iloc[:,2]=table_list[2::3]\ntoronto_data.replace(\"Not assigned\", np.nan, inplace = True)\ntoronto_data.dropna(subset=[\"Borough\"], axis=0, inplace = True)\ntoronto_data.reset_index(drop=True, inplace=True)\n\n#Where Neighborhood is not assigned use Borough\nfor i in range(0, toronto_data.shape[0]):\n    if pd.isnull(toronto_data.loc[i,'Neighborhood']):\n        toronto_data.replace(toronto_data.loc[i,'Neighborhood'], toronto_data.loc[i,'Borough'],inplace=True)\n\n#Cleanse Neighborhood column based on unique postcodes/boroughs and append neighborhoods in each unique combination\ntoronto_data['Neighborhood'] = toronto_data[['PostalCode','Borough','Neighborhood']].groupby(['PostalCode','Borough'])['Neighborhood'].transform(lambda x: ', '.join(x)) \ntoronto_data.drop_duplicates(inplace=True)\ntoronto_data.reset_index(drop=True, inplace=True)\ntoronto_data.head()"
        }, 
        {
            "source": "   ", 
            "cell_type": "markdown", 
            "metadata": {}
        }, 
        {
            "source": "##### **3.2 Geospatial Data**", 
            "cell_type": "markdown", 
            "metadata": {}
        }, 
        {
            "execution_count": 3, 
            "cell_type": "code", 
            "metadata": {}, 
            "outputs": [
                {
                    "execution_count": 3, 
                    "metadata": {}, 
                    "data": {
                        "text/html": "<div>\n<style scoped>\n    .dataframe tbody tr th:only-of-type {\n        vertical-align: middle;\n    }\n\n    .dataframe tbody tr th {\n        vertical-align: top;\n    }\n\n    .dataframe thead th {\n        text-align: right;\n    }\n</style>\n<table border=\"1\" class=\"dataframe\">\n  <thead>\n    <tr style=\"text-align: right;\">\n      <th></th>\n      <th>PostalCode</th>\n      <th>Borough</th>\n      <th>Neighborhood</th>\n      <th>Latitude</th>\n      <th>Longitude</th>\n    </tr>\n  </thead>\n  <tbody>\n    <tr>\n      <th>0</th>\n      <td>M3A</td>\n      <td>North York</td>\n      <td>Parkwoods</td>\n      <td>43.753259</td>\n      <td>-79.329656</td>\n    </tr>\n    <tr>\n      <th>1</th>\n      <td>M4A</td>\n      <td>North York</td>\n      <td>Victoria Village</td>\n      <td>43.725882</td>\n      <td>-79.315572</td>\n    </tr>\n    <tr>\n      <th>2</th>\n      <td>M5A</td>\n      <td>Downtown Toronto</td>\n      <td>Harbourfront, Regent Park</td>\n      <td>43.654260</td>\n      <td>-79.360636</td>\n    </tr>\n    <tr>\n      <th>3</th>\n      <td>M6A</td>\n      <td>North York</td>\n      <td>Lawrence Heights, Lawrence Manor</td>\n      <td>43.718518</td>\n      <td>-79.464763</td>\n    </tr>\n    <tr>\n      <th>4</th>\n      <td>M7A</td>\n      <td>Queen's Park</td>\n      <td>Queen's Park</td>\n      <td>43.662301</td>\n      <td>-79.389494</td>\n    </tr>\n  </tbody>\n</table>\n</div>", 
                        "text/plain": "  PostalCode           Borough                      Neighborhood   Latitude  \\\n0        M3A        North York                         Parkwoods  43.753259   \n1        M4A        North York                  Victoria Village  43.725882   \n2        M5A  Downtown Toronto         Harbourfront, Regent Park  43.654260   \n3        M6A        North York  Lawrence Heights, Lawrence Manor  43.718518   \n4        M7A      Queen's Park                      Queen's Park  43.662301   \n\n   Longitude  \n0 -79.329656  \n1 -79.315572  \n2 -79.360636  \n3 -79.464763  \n4 -79.389494  "
                    }, 
                    "output_type": "execute_result"
                }
            ], 
            "source": "Geospatial_data = pd.read_csv(\"http://cocl.us/Geospatial_data\")\nneighborhoods = toronto_data.merge(Geospatial_data, how = \"left\", left_on = \"PostalCode\", right_on = \"Postal Code\")\nneighborhoods = neighborhoods.drop([\"Postal Code\"], axis = 1)\nneighborhoods.head()"
        }, 
        {
            "source": "    ", 
            "cell_type": "markdown", 
            "metadata": {}
        }, 
        {
            "source": "##### **3.3 Statistics Canada Census data**\nThe demographic status of Toronto can be explored extensively after reading the Statistics Canada Census data for Population, 2016 into the Pandas dataFrame.", 
            "cell_type": "markdown", 
            "metadata": {}
        }, 
        {
            "execution_count": 4, 
            "cell_type": "code", 
            "metadata": {}, 
            "outputs": [
                {
                    "execution_count": 4, 
                    "metadata": {}, 
                    "data": {
                        "text/html": "<div>\n<style scoped>\n    .dataframe tbody tr th:only-of-type {\n        vertical-align: middle;\n    }\n\n    .dataframe tbody tr th {\n        vertical-align: top;\n    }\n\n    .dataframe thead th {\n        text-align: right;\n    }\n</style>\n<table border=\"1\" class=\"dataframe\">\n  <thead>\n    <tr style=\"text-align: right;\">\n      <th></th>\n      <th>Geographic code</th>\n      <th>Population</th>\n      <th>Total pvt dwlgs</th>\n      <th>Pvt by res.</th>\n    </tr>\n  </thead>\n  <tbody>\n    <tr>\n      <th>895</th>\n      <td>M1B</td>\n      <td>66108.0</td>\n      <td>20957.0</td>\n      <td>20230.0</td>\n    </tr>\n    <tr>\n      <th>896</th>\n      <td>M1C</td>\n      <td>35626.0</td>\n      <td>11588.0</td>\n      <td>11274.0</td>\n    </tr>\n    <tr>\n      <th>897</th>\n      <td>M1E</td>\n      <td>46943.0</td>\n      <td>17637.0</td>\n      <td>17161.0</td>\n    </tr>\n    <tr>\n      <th>898</th>\n      <td>M1G</td>\n      <td>29690.0</td>\n      <td>10116.0</td>\n      <td>9767.0</td>\n    </tr>\n    <tr>\n      <th>899</th>\n      <td>M1H</td>\n      <td>24383.0</td>\n      <td>9274.0</td>\n      <td>8985.0</td>\n    </tr>\n  </tbody>\n</table>\n</div>", 
                        "text/plain": "    Geographic code  Population  Total pvt dwlgs  Pvt by res.\n895             M1B     66108.0          20957.0      20230.0\n896             M1C     35626.0          11588.0      11274.0\n897             M1E     46943.0          17637.0      17161.0\n898             M1G     29690.0          10116.0       9767.0\n899             M1H     24383.0           9274.0       8985.0"
                    }, 
                    "output_type": "execute_result"
                }
            ], 
            "source": "Toronto_pop = pd.read_csv(\"https://www12.statcan.gc.ca/census-recensement/2016/dp-pd/hlt-fst/pd-pl/Tables/CompFile.cfm?Lang=Eng&T=1201&OFT=FULLCSV\", encoding='latin-1')\nToronto_pop =Toronto_pop[(Toronto_pop['Province or territory']== \"Ontario\")]\nToronto_pop = Toronto_pop[Toronto_pop[\"Geographic code\"].isin(neighborhoods['PostalCode'].tolist())]\nToronto_pop = Toronto_pop[[\"Geographic code\", \"Population, 2016\", \"Total private dwellings, 2016\", \"Private dwellings occupied by usual residents, 2016\" ]]\nToronto_pop.columns = [\"Geographic code\", \"Population\", \"Total pvt dwlgs\", \"Pvt by res.\"]\nToronto_pop.head()"
        }, 
        {
            "source": "    ", 
            "cell_type": "markdown", 
            "metadata": {}
        }, 
        {
            "source": "##### Geocoding\nTo utilize the Foursquare location data, I need to get the latitude and the longitude coordinates of each neighborhood. To convert the Toronto  address into latitude and longitude values, a search engine for OpenStreetMap data geocoding tool named Nominatim is employed.", 
            "cell_type": "markdown", 
            "metadata": {}
        }, 
        {
            "execution_count": 5, 
            "cell_type": "code", 
            "metadata": {}, 
            "outputs": [
                {
                    "output_type": "stream", 
                    "name": "stdout", 
                    "text": "The geograpical coordinate of Toronto are 43.653963, -79.387207.\n"
                }
            ], 
            "source": "from geopy.geocoders import Nominatim\ngeolocator = Nominatim(user_agent=\"Toronto_explorer\")\naddress = 'Toronto'\nlocation = geolocator.geocode(address)\nlatitude = location.latitude\nlongitude = location.longitude\nprint('The geograpical coordinate of Toronto are {}, {}.'.format(latitude, longitude))"
        }, 
        {
            "source": "    ", 
            "cell_type": "markdown", 
            "metadata": {}
        }, 
        {
            "source": "##### **3.4 Foursquare location data**\nUsing the Foursquare API, I searched for the type of venues or stores around the Nominatim returned location coordinates. By  making the call to the database entering the developer account credentials, which are my Client ID and Client Secret as well as what is called the version of the API. \n\nAgain because I\u2019m searching for different type of venues, I pass the latitude and longitude coordinates along with the search query radius & limits. This completes the URI to make the call to the database and in return a .JSON file format of the venues that match the query with its name, unique ID, location, and category information is downloaded. ", 
            "cell_type": "markdown", 
            "metadata": {}
        }, 
        {
            "execution_count": 6, 
            "cell_type": "code", 
            "metadata": {}, 
            "outputs": [
                {
                    "output_type": "stream", 
                    "name": "stdout", 
                    "text": "Your credentails: Kept Hidden\n"
                }
            ], 
            "source": "# The code was removed by Watson Studio for sharing."
        }, 
        {
            "source": "    ", 
            "cell_type": "markdown", 
            "metadata": {}
        }, 
        {
            "source": "I get a .json file of the venues with its name, unique ID, location, and category. Apply the get_category_type function from the Foursquare lab, followed by cleaning the .JSON file and structuring it into a pandas dataframe. ", 
            "cell_type": "markdown", 
            "metadata": {}
        }, 
        {
            "execution_count": 7, 
            "cell_type": "code", 
            "metadata": {}, 
            "outputs": [], 
            "source": "# function that extracts the category of the venue\ndef get_category_type(row):\n    try:\n        categories_list = row['categories']\n    except:\n        categories_list = row['venue.categories']\n        \n    if len(categories_list) == 0:\n        return None\n    else:\n        return categories_list[0]['name']"
        }, 
        {
            "execution_count": 8, 
            "cell_type": "code", 
            "metadata": {}, 
            "outputs": [
                {
                    "execution_count": 8, 
                    "metadata": {}, 
                    "data": {
                        "text/html": "<div>\n<style scoped>\n    .dataframe tbody tr th:only-of-type {\n        vertical-align: middle;\n    }\n\n    .dataframe tbody tr th {\n        vertical-align: top;\n    }\n\n    .dataframe thead th {\n        text-align: right;\n    }\n</style>\n<table border=\"1\" class=\"dataframe\">\n  <thead>\n    <tr style=\"text-align: right;\">\n      <th></th>\n      <th>name</th>\n      <th>categories</th>\n      <th>lat</th>\n      <th>lng</th>\n    </tr>\n  </thead>\n  <tbody>\n    <tr>\n      <th>0</th>\n      <td>Downtown Toronto</td>\n      <td>Neighborhood</td>\n      <td>43.653232</td>\n      <td>-79.385296</td>\n    </tr>\n    <tr>\n      <th>1</th>\n      <td>Textile Museum of Canada</td>\n      <td>Art Museum</td>\n      <td>43.654396</td>\n      <td>-79.386500</td>\n    </tr>\n    <tr>\n      <th>2</th>\n      <td>Japango</td>\n      <td>Sushi Restaurant</td>\n      <td>43.655268</td>\n      <td>-79.385165</td>\n    </tr>\n    <tr>\n      <th>3</th>\n      <td>Sansotei Ramen \u4e09\u8349\u4ead</td>\n      <td>Ramen Restaurant</td>\n      <td>43.655157</td>\n      <td>-79.386501</td>\n    </tr>\n    <tr>\n      <th>4</th>\n      <td>Tsujiri</td>\n      <td>Tea Room</td>\n      <td>43.655374</td>\n      <td>-79.385354</td>\n    </tr>\n  </tbody>\n</table>\n</div>", 
                        "text/plain": "                       name        categories        lat        lng\n0          Downtown Toronto      Neighborhood  43.653232 -79.385296\n1  Textile Museum of Canada        Art Museum  43.654396 -79.386500\n2                   Japango  Sushi Restaurant  43.655268 -79.385165\n3        Sansotei Ramen \u4e09\u8349\u4ead  Ramen Restaurant  43.655157 -79.386501\n4                   Tsujiri          Tea Room  43.655374 -79.385354"
                    }, 
                    "output_type": "execute_result"
                }
            ], 
            "source": "venues = results['response']['groups'][0]['items']    \nnearby_venues = json_normalize(venues) # flatten JSON\n# filter columns\nfiltered_columns = ['venue.name', 'venue.categories', 'venue.location.lat', 'venue.location.lng']\nnearby_venues =nearby_venues.loc[:, filtered_columns]\n# filter the category for each row\nnearby_venues['venue.categories'] = nearby_venues.apply(get_category_type, axis=1)\n# clean columns\nnearby_venues.columns = [col.split(\".\")[-1] for col in nearby_venues.columns]\nnearby_venues.head()"
        }, 
        {
            "source": "   ", 
            "cell_type": "markdown", 
            "metadata": {}
        }, 
        {
            "source": "To repeat the same process to all the neighborhoods in Toronto getNearbyVenues function is created", 
            "cell_type": "markdown", 
            "metadata": {}
        }, 
        {
            "execution_count": 9, 
            "cell_type": "code", 
            "metadata": {}, 
            "outputs": [], 
            "source": "def getNearbyVenues(names, latitudes, longitudes, radius=500):    \n    venues_list=[]\n    for name, lat, lng in zip(names, latitudes, longitudes):\n        print(name)            \n        # create the API request URL\n        url = 'https://api.foursquare.com/v2/venues/explore?&client_id={}&client_secret={}&v={}&ll={},{}&radius={}&limit={}'.format(\n            CLIENT_ID, \n            CLIENT_SECRET, \n            VERSION, \n            lat, \n            lng, \n            radius, \n            LIMIT)            \n        # make the GET request\n        results = requests.get(url).json()[\"response\"]['groups'][0]['items']        \n        # return only relevant information for each nearby venue\n        venues_list.append([(\n            name, \n            lat, \n            lng, \n            v['venue']['name'], \n            v['venue']['location']['lat'], \n            v['venue']['location']['lng'],  \n            v['venue']['categories'][0]['name']) for v in results])\n    nearby_venues = pd.DataFrame([item for venue_list in venues_list for item in venue_list])\n    nearby_venues.columns = ['Neighborhood', \n                  'Neighborhood Latitude', \n                  'Neighborhood Longitude', \n                  'Venue', \n                  'Venue Latitude', \n                  'Venue Longitude', \n                  'Venue Category']    \n    return(nearby_venues)"
        }, 
        {
            "execution_count": 10, 
            "cell_type": "code", 
            "metadata": {}, 
            "outputs": [
                {
                    "output_type": "stream", 
                    "name": "stdout", 
                    "text": "Parkwoods\nVictoria Village\nHarbourfront, Regent Park\nLawrence Heights, Lawrence Manor\nQueen's Park\nIslington Avenue\nRouge, Malvern\nDon Mills North\nWoodbine Gardens, Parkview Hill\nRyerson, Garden District\nGlencairn\nCloverdale, Islington, Martin Grove, Princess Gardens, West Deane Park\nHighland Creek, Rouge Hill, Port Union\nFlemingdon Park, Don Mills South\nWoodbine Heights\nSt. James Town\nHumewood-Cedarvale\nBloordale Gardens, Eringate, Markland Wood, Old Burnhamthorpe\nGuildwood, Morningside, West Hill\nThe Beaches\nBerczy Park\nCaledonia-Fairbanks\nWoburn\nLeaside\nCentral Bay Street\nChristie\nCedarbrae\nHillcrest Village\nBathurst Manor, Downsview North, Wilson Heights\nThorncliffe Park\nAdelaide, King, Richmond\nDovercourt Village, Dufferin\nScarborough Village\nFairview, Henry Farm, Oriole\nNorthwood Park, York University\nEast Toronto\nHarbourfront East, Toronto Islands, Union Station\nLittle Portugal, Trinity\nEast Birchmount Park, Ionview, Kennedy Park\nBayview Village\nCFB Toronto, Downsview East\nThe Danforth West, Riverdale\nDesign Exchange, Toronto Dominion Centre\nBrockton, Exhibition Place, Parkdale Village\nClairlea, Golden Mile, Oakridge\nSilver Hills, York Mills\nDownsview West\nThe Beaches West, India Bazaar\nCommerce Court, Victoria Hotel\nDownsview, North Park, Upwood Park\nHumber Summit\nCliffcrest, Cliffside, Scarborough Village West\nNewtonbrook, Willowdale\nDownsview Central\nStudio District\nBedford Park, Lawrence Manor East\nDel Ray, Keelesdale, Mount Dennis, Silverthorn\nEmery, Humberlea\nBirch Cliff, Cliffside West\nWillowdale South\nDownsview Northwest\nLawrence Park\nRoselawn\nThe Junction North, Runnymede\nWeston\nDorset Park, Scarborough Town Centre, Wexford Heights\nYork Mills West\nDavisville North\nForest Hill North, Forest Hill West\nHigh Park, The Junction South\nWestmount\nMaryvale, Wexford\nWillowdale West\nNorth Toronto West\nThe Annex, North Midtown, Yorkville\nParkdale, Roncesvalles\nCanada Post Gateway Processing Centre\nKingsview Village, Martin Grove Gardens, Richview Gardens, St. Phillips\nAgincourt\nDavisville\nHarbord, University of Toronto\nRunnymede, Swansea\nClarks Corners, Sullivan, Tam O'Shanter\nMoore Park, Summerhill East\nChinatown, Grange Park, Kensington Market\nAgincourt North, L'Amoreaux East, Milliken, Steeles East\nDeer Park, Forest Hill SE, Rathnelly, South Hill, Summerhill West\nCN Tower, Bathurst Quay, Island airport, Harbourfront West, King and Spadina, Railway Lands, South Niagara\nHumber Bay Shores, Mimico South, New Toronto\nAlbion Gardens, Beaumond Heights, Humbergate, Jamestown, Mount Olive, Silverstone, South Steeles, Thistletown\nL'Amoreaux West\nRosedale\nStn A PO Boxes 25 The Esplanade\nAlderwood, Long Branch\nNorthwest\nUpper Rouge\nCabbagetown, St. James Town\nFirst Canadian Place, Underground city\nThe Kingsway, Montgomery Road, Old Mill North\nChurch and Wellesley\nBusiness Reply Mail Processing Centre 969 Eastern\nHumber Bay, King's Mill Park, Kingsway Park South East, Mimico NE, Old Mill South, The Queensway East, Royal York South East, Sunnylea\nKingsway Park South West, Mimico NW, The Queensway West, Royal York South West, South of Bloor\n"
                }
            ], 
            "source": "Toronto_venues = getNearbyVenues(names=neighborhoods['Neighborhood'],\n                                   latitudes=neighborhoods['Latitude'],\n                                   longitudes=neighborhoods['Longitude']\n                                  )"
        }, 
        {
            "execution_count": 11, 
            "cell_type": "code", 
            "metadata": {}, 
            "outputs": [
                {
                    "output_type": "stream", 
                    "name": "stdout", 
                    "text": "(2271, 7)\n"
                }, 
                {
                    "execution_count": 11, 
                    "metadata": {}, 
                    "data": {
                        "text/html": "<div>\n<style scoped>\n    .dataframe tbody tr th:only-of-type {\n        vertical-align: middle;\n    }\n\n    .dataframe tbody tr th {\n        vertical-align: top;\n    }\n\n    .dataframe thead th {\n        text-align: right;\n    }\n</style>\n<table border=\"1\" class=\"dataframe\">\n  <thead>\n    <tr style=\"text-align: right;\">\n      <th></th>\n      <th>Neighborhood</th>\n      <th>Neighborhood Latitude</th>\n      <th>Neighborhood Longitude</th>\n      <th>Venue</th>\n      <th>Venue Latitude</th>\n      <th>Venue Longitude</th>\n      <th>Venue Category</th>\n    </tr>\n  </thead>\n  <tbody>\n    <tr>\n      <th>0</th>\n      <td>Parkwoods</td>\n      <td>43.753259</td>\n      <td>-79.329656</td>\n      <td>Brookbanks Park</td>\n      <td>43.751976</td>\n      <td>-79.332140</td>\n      <td>Park</td>\n    </tr>\n    <tr>\n      <th>1</th>\n      <td>Parkwoods</td>\n      <td>43.753259</td>\n      <td>-79.329656</td>\n      <td>KFC</td>\n      <td>43.754387</td>\n      <td>-79.333021</td>\n      <td>Fast Food Restaurant</td>\n    </tr>\n    <tr>\n      <th>2</th>\n      <td>Parkwoods</td>\n      <td>43.753259</td>\n      <td>-79.329656</td>\n      <td>Variety Store</td>\n      <td>43.751974</td>\n      <td>-79.333114</td>\n      <td>Food &amp; Drink Shop</td>\n    </tr>\n    <tr>\n      <th>3</th>\n      <td>Victoria Village</td>\n      <td>43.725882</td>\n      <td>-79.315572</td>\n      <td>Victoria Village Arena</td>\n      <td>43.723481</td>\n      <td>-79.315635</td>\n      <td>Hockey Arena</td>\n    </tr>\n    <tr>\n      <th>4</th>\n      <td>Victoria Village</td>\n      <td>43.725882</td>\n      <td>-79.315572</td>\n      <td>Tim Hortons</td>\n      <td>43.725517</td>\n      <td>-79.313103</td>\n      <td>Coffee Shop</td>\n    </tr>\n  </tbody>\n</table>\n</div>", 
                        "text/plain": "       Neighborhood  Neighborhood Latitude  Neighborhood Longitude  \\\n0         Parkwoods              43.753259              -79.329656   \n1         Parkwoods              43.753259              -79.329656   \n2         Parkwoods              43.753259              -79.329656   \n3  Victoria Village              43.725882              -79.315572   \n4  Victoria Village              43.725882              -79.315572   \n\n                    Venue  Venue Latitude  Venue Longitude  \\\n0         Brookbanks Park       43.751976       -79.332140   \n1                     KFC       43.754387       -79.333021   \n2           Variety Store       43.751974       -79.333114   \n3  Victoria Village Arena       43.723481       -79.315635   \n4             Tim Hortons       43.725517       -79.313103   \n\n         Venue Category  \n0                  Park  \n1  Fast Food Restaurant  \n2     Food & Drink Shop  \n3          Hockey Arena  \n4           Coffee Shop  "
                    }, 
                    "output_type": "execute_result"
                }
            ], 
            "source": "print(Toronto_venues.shape)\nToronto_venues.head()"
        }, 
        {
            "source": " Now I am ready to explore the venues in the city of Toronto. ", 
            "cell_type": "markdown", 
            "metadata": {}
        }
    ], 
    "metadata": {
        "kernelspec": {
            "display_name": "Python 3.5", 
            "name": "python3", 
            "language": "python"
        }, 
        "widgets": {
            "state": {}, 
            "version": "1.1.2"
        }, 
        "language_info": {
            "mimetype": "text/x-python", 
            "nbconvert_exporter": "python", 
            "version": "3.5.5", 
            "name": "python", 
            "file_extension": ".py", 
            "pygments_lexer": "ipython3", 
            "codemirror_mode": {
                "version": 3, 
                "name": "ipython"
            }
        }
    }, 
    "nbformat": 4
}